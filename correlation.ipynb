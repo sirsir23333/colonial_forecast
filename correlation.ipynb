{
 "cells": [
  {
   "cell_type": "markdown",
   "metadata": {},
   "source": [
    "# Think we should find out the cointegration and correlation between time series"
   ]
  },
  {
   "cell_type": "code",
   "execution_count": null,
   "metadata": {},
   "outputs": [],
   "source": []
  }
 ],
 "metadata": {
  "kernelspec": {
   "display_name": "Python 3.11.9 ('my_env311')",
   "language": "python",
   "name": "python3"
  },
  "language_info": {
   "name": "python",
   "version": "3.11.9"
  },
  "orig_nbformat": 4,
  "vscode": {
   "interpreter": {
    "hash": "1ff7a2407abc892812ad7b31944b1fdaa11dbd950ee9f1c2a56b01093e4d5b39"
   }
  }
 },
 "nbformat": 4,
 "nbformat_minor": 2
}
